{
 "cells": [
  {
   "cell_type": "code",
   "execution_count": 34,
   "id": "71279903",
   "metadata": {},
   "outputs": [
    {
     "name": "stdout",
     "output_type": "stream",
     "text": [
      "Image saved: output_images\\product1_bg_1_with_background.jpg\n",
      "Image saved: output_images\\product1_bg_2_with_background.jpg\n",
      "Image saved: output_images\\product1_bg_3_with_background.jpg\n",
      "Image saved: output_images\\product1_bg_4_with_background.jpg\n",
      "Image saved: output_images\\product1_bg_5_with_background.jpg\n",
      "Image saved: output_images\\product2_bg_1_with_background.jpg\n",
      "Image saved: output_images\\product2_bg_2_with_background.jpg\n",
      "Image saved: output_images\\product2_bg_3_with_background.jpg\n",
      "Image saved: output_images\\product2_bg_4_with_background.jpg\n",
      "Image saved: output_images\\product2_bg_5_with_background.jpg\n",
      "Image saved: output_images\\product3_bg_1_with_background.jpg\n",
      "Image saved: output_images\\product3_bg_2_with_background.jpg\n",
      "Image saved: output_images\\product3_bg_3_with_background.jpg\n",
      "Image saved: output_images\\product3_bg_4_with_background.jpg\n",
      "Image saved: output_images\\product3_bg_5_with_background.jpg\n",
      "Image saved: output_images\\product4_bg_1_with_background.jpg\n",
      "Image saved: output_images\\product4_bg_2_with_background.jpg\n",
      "Image saved: output_images\\product4_bg_3_with_background.jpg\n",
      "Image saved: output_images\\product4_bg_4_with_background.jpg\n",
      "Image saved: output_images\\product4_bg_5_with_background.jpg\n",
      "Image saved: output_images\\product5_bg_1_with_background.jpg\n",
      "Image saved: output_images\\product5_bg_2_with_background.jpg\n",
      "Image saved: output_images\\product5_bg_3_with_background.jpg\n",
      "Image saved: output_images\\product5_bg_4_with_background.jpg\n",
      "Image saved: output_images\\product5_bg_5_with_background.jpg\n"
     ]
    }
   ],
   "source": [
    "import os\n",
    "\n",
    "def save_image(image, output_path):\n",
    "    cv2.imwrite(output_path, cv2.cvtColor(image, cv2.COLOR_RGB2BGR))\n",
    "\n",
    "def change_background_and_save(image_path, background_path, output_folder):\n",
    "    foreground = cv2.imread(image_path)\n",
    "    foreground = cv2.cvtColor(foreground, cv2.COLOR_BGR2RGB)\n",
    "    foreground_height, foreground_width, _ = foreground.shape\n",
    "\n",
    "    background = cv2.imread(background_path)\n",
    "    background = cv2.cvtColor(background, cv2.COLOR_BGR2RGB)\n",
    "    background_resized = cv2.resize(background, (foreground_width, foreground_height))\n",
    "\n",
    "    gray_foreground = cv2.cvtColor(foreground, cv2.COLOR_RGB2GRAY)\n",
    "    gray_background = cv2.cvtColor(background_resized, cv2.COLOR_RGB2GRAY)\n",
    "\n",
    "    _, mask = cv2.threshold(gray_foreground, 230, 255, cv2.THRESH_BINARY)\n",
    "    mask_inv = cv2.bitwise_not(mask)\n",
    "\n",
    "    foreground_region = cv2.bitwise_and(foreground, foreground, mask=mask_inv)\n",
    "    background_region = cv2.bitwise_and(background_resized, background_resized, mask=mask)\n",
    "\n",
    "    new_image = cv2.add(foreground_region, background_region)\n",
    "\n",
    "    os.makedirs(output_folder, exist_ok=True)\n",
    "\n",
    "    output_filename = os.path.splitext(os.path.basename(image_path))[0] + '_' + os.path.splitext(os.path.basename(background_image_path))[0] + '_with_background.jpg'\n",
    "    output_path = os.path.join(output_folder, output_filename)\n",
    "    save_image(new_image, output_path)\n",
    "    print(f\"Image saved: {output_path}\")\n",
    "\n",
    "input_images = [\"product1.jpg\",\"product2.jpg\",\"product3.jpg\",\"product4.jpg\",\"product5.jpg\"]\n",
    "background_images =['bg_1.jpg','bg_2.jpg','bg_3.jpg','bg_4.jpg','bg_5.jpg']\n",
    "output_folder = \"output_images\"\n",
    "\n",
    "for foreground_image_path in input_images:\n",
    "    for background_image_path in background_images:\n",
    "        change_background_and_save(foreground_image_path, background_image_path, output_folder)\n"
   ]
  },
  {
   "cell_type": "code",
   "execution_count": null,
   "id": "86ed52c9",
   "metadata": {},
   "outputs": [],
   "source": []
  }
 ],
 "metadata": {
  "kernelspec": {
   "display_name": "Python 3 (ipykernel)",
   "language": "python",
   "name": "python3"
  },
  "language_info": {
   "codemirror_mode": {
    "name": "ipython",
    "version": 3
   },
   "file_extension": ".py",
   "mimetype": "text/x-python",
   "name": "python",
   "nbconvert_exporter": "python",
   "pygments_lexer": "ipython3",
   "version": "3.10.9"
  }
 },
 "nbformat": 4,
 "nbformat_minor": 5
}
